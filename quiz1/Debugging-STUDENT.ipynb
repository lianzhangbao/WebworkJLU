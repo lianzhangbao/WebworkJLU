{
 "cells": [
  {
   "attachments": {},
   "cell_type": "markdown",
   "metadata": {},
   "source": [
    "# Practice with Debugging"
   ]
  },
  {
   "cell_type": "markdown",
   "metadata": {},
   "source": [
    "## 1: Debugging"
   ]
  },
  {
   "cell_type": "markdown",
   "metadata": {},
   "source": [
    "<img src=\"http://imgs.xkcd.com/comics/fixing_problems.png\" width=300px>"
   ]
  },
  {
   "cell_type": "markdown",
   "metadata": {},
   "source": [
    "Getting code to run perfectly the first time is nearly impossible, even for people with years of experience. Therefore debugging is a very important skill all programmers need to have, regardless of what they are doing or how much experience they have. While it sounds intimidating, the process of debugging can actually be broken down to three simple steps:  \n",
    "\n",
    "1. Locate where the bug is occurring\n",
    "2. Figure out what is causing the bug\n",
    "3. Fix the bug\n",
    "\n",
    "Luckily for us, the errors we see in Jupyter try their best to solve the first two steps for us! Take a look at the below example:"
   ]
  },
  {
   "cell_type": "code",
   "execution_count": null,
   "metadata": {},
   "outputs": [],
   "source": [
    "for i in range(3)\n",
    "    i_squared = i * i\n",
    "    print(i_squared)"
   ]
  },
  {
   "cell_type": "markdown",
   "metadata": {},
   "source": [
    "The error here is telling us that it thinks the issue is at the end of the for loop, so we'll start by looking there. Step one done!  \n",
    "\n",
    "Now we'll try to figure out what is causing the bug. Here, the error is telling us that it is a **syntax error**. That usually means we have a typo somewhere. Maybe we forgot something in our for loop?  \n",
    "\n",
    "After looking closely, it turns out that we did forget something -- the colon at the end. After fixing that, our code runs without a problem!"
   ]
  },
  {
   "cell_type": "code",
   "execution_count": null,
   "metadata": {},
   "outputs": [],
   "source": [
    "for i in range(3):\n",
    "    i_squared = i * i\n",
    "    print(i_squared)"
   ]
  },
  {
   "cell_type": "markdown",
   "metadata": {},
   "source": [
    "Sometimes it's hard to understand what Jupyter is trying to tell you when it gives you an error. If you're ever unsure, it can be really helpful to just copy and paste the error into Google. This can lead you to helpful forums and documentation. No matter what the error is, someone else has almost always had the same issue.  \n",
    "\n",
    "Another helpful strategy is to run your code in sections to find where the error is occurring. Take the example from before. Try commenting out each line one at a time and rerunning your code. (Note that when commenting out the top line you'll have to add a line that assigns the variable i to some number) The error goes away after commenting out which line?"
   ]
  },
  {
   "cell_type": "code",
   "execution_count": null,
   "metadata": {},
   "outputs": [],
   "source": [
    "for i in range(3)\n",
    "    i_squared = i * i\n",
    "    print(i_squared)"
   ]
  },
  {
   "cell_type": "markdown",
   "metadata": {},
   "source": [
    "Now you've manually **located where the bug is occurring**. Now you know where to look to figure out what you need to fix. Again, you can see that you forgot a colon at the end of your for-loop, so you know **what is causing the bug**. Now you can easily **fix the bug**!"
   ]
  },
  {
   "cell_type": "markdown",
   "metadata": {},
   "source": [
    "#### Now it's your turn!\n",
    "Below are several examples with common errors. Practice using the three steps outlined above, as well as the debugging strategies, to make the following cells run. "
   ]
  },
  {
   "cell_type": "code",
   "execution_count": null,
   "metadata": {},
   "outputs": [],
   "source": [
    "# First load in libraries. Did we forget to include something?\n",
    "import numpy as np\n",
    "import matplotlib.pyplot as plt\n"
   ]
  },
  {
   "cell_type": "code",
   "execution_count": null,
   "metadata": {},
   "outputs": [],
   "source": [
    "my_indices = [1.0, 2.0, 3.0, 4.0, 5.0]\n",
    "my_list = [1, 2, 3, 4, 5, 6, 7, 8, 9, 10]\n",
    "\n",
    "# get even numbers\n",
    "my_even_indices = my_indices * 2\n",
    "for index in my_indices:\n",
    "current_number = my_list(index)\n",
    "print(current_number)"
   ]
  },
  {
   "cell_type": "code",
   "execution_count": null,
   "metadata": {},
   "outputs": [],
   "source": [
    "x = np.array(1, 2, 3, 4, 5, 6)\n",
    "y = np.array(1, 2, 3, 4, 5)"
   ]
  },
  {
   "cell_type": "code",
   "execution_count": null,
   "metadata": {},
   "outputs": [],
   "source": [
    "# print two arrays from 1 to 10\n",
    "a = np.linspace(1, 10, 1)\n",
    "print(a)\n",
    "b = np.arrange(1, 10, 1)\n",
    "print(b)"
   ]
  },
  {
   "cell_type": "code",
   "execution_count": null,
   "metadata": {},
   "outputs": [],
   "source": [
    "# References previous cell\n",
    "plt.plot(x, y, 'r')\n",
    "plt.title(Straight Line)\n",
    "plt.xlable(x values)\n",
    "plt.ylable(yvalues)\n",
    "\n",
    "# We want this to be plotted in another figure. Also make it bigger if you can!\n",
    "plt.scatter(x[3:7], y[3:7], 'r')\n",
    "plt.xlabel(\"X-Values\")\n",
    "plt.ylabel(\"Y-Values\")\n",
    "plt.title(Practice Plot)\n",
    "grid()"
   ]
  },
  {
   "cell_type": "code",
   "execution_count": null,
   "metadata": {},
   "outputs": [],
   "source": [
    "my_list = ()\n",
    "\n",
    "for i in range(10)\n",
    "    a = i + (i - 1)\n",
    "    my_list.append(i / a)\n",
    "    \n",
    "Print(my_list)"
   ]
  },
  {
   "cell_type": "code",
   "execution_count": null,
   "metadata": {},
   "outputs": [],
   "source": [
    "## This may not have a specific error, but we don't want all of those lists! \n",
    "\n",
    "suits = ['A','B','C','D']\n",
    "numbs = [1, 2, 3, 4, 5, 6, 7, 8, 9, 10, 11, 12, 13] # 1 is ace, 11 12 13 are jack queen king\n",
    "cards = []\n",
    "for suit in suits:\n",
    "    for num in numbs:\n",
    "        cards.append(suit + str(num))\n",
    "        print(cards)"
   ]
  },
  {
   "cell_type": "code",
   "execution_count": null,
   "metadata": {},
   "outputs": [],
   "source": [
    "for i in range(-10, 10):\n",
    "    fraction = i / (i ** 2)\n",
    "    print(fraction)"
   ]
  },
  {
   "cell_type": "code",
   "execution_count": null,
   "metadata": {},
   "outputs": [],
   "source": [
    "# We want to print out all four sounds\n",
    "\n",
    "cat = 10\n",
    "dog = 5\n",
    "cow = 1\n",
    "elif cat > dog\n",
    "print('Meow!)\n",
    "      if dog > pig \n",
    "       print('Woof!')\n",
    "      if pig < cat < dog\n",
    "          print('Oink!')\n",
    "          if cow = pig\n",
    "              print('Moo!')"
   ]
  },
  {
   "cell_type": "code",
   "execution_count": null,
   "metadata": {},
   "outputs": [],
   "source": [
    "sum_of_squared_values = 0\n",
    "while i < 10\n",
    "squared_list = []\n",
    "squared_list.append[i * i]\n",
    "sum_of squared_values == i * i\n",
    "if i * i = i\n",
    "print(\"I'm number one!\")"
   ]
  },
  {
   "cell_type": "markdown",
   "metadata": {},
   "source": [
    "---\n",
    "# 2. More debugging\n",
    "\n",
    "## More bug examples"
   ]
  },
  {
   "cell_type": "markdown",
   "metadata": {},
   "source": [
    "The cells below each contain code that, when run, will throw an error. For each of the following:\n",
    "1. Describe what you think the code *should* be doing\n",
    "2. What error message are you getting? What does that error message mean?\n",
    "3. How could the code be corrected so that it will run without throwing an error *and* perform the task that you think it should be?\n",
    "4. Try copying and pasting the code into a new cell and correcting it as you outlined in the above question.\n",
    "\n",
    "Be sure to answer all of the questions for each piece of code."
   ]
  },
  {
   "cell_type": "markdown",
   "metadata": {},
   "source": [
    "*Code Sample 1:*"
   ]
  },
  {
   "cell_type": "code",
   "execution_count": null,
   "metadata": {},
   "outputs": [],
   "source": [
    "B = [range(100)]\n",
    "B[10]"
   ]
  },
  {
   "cell_type": "markdown",
   "metadata": {},
   "source": [
    "<font size=8 color=\"#009600\">&#9998;</font> Do This - Erase the contents of this cell and replace it with your answer to the above questions (1-4)!  (double-click on this text to edit this cell, and hit shift+enter to save the text)"
   ]
  },
  {
   "cell_type": "code",
   "execution_count": null,
   "metadata": {},
   "outputs": [],
   "source": [
    "##Put your code here"
   ]
  },
  {
   "cell_type": "markdown",
   "metadata": {},
   "source": [
    "*Code Sample 2:*"
   ]
  },
  {
   "cell_type": "code",
   "execution_count": null,
   "metadata": {},
   "outputs": [],
   "source": [
    "##You may need to google the formula for standard deviation if it's something that you aren't familiar with\n",
    "##But knowledge of the formula is not required to fix the bug\n",
    "def mean_and_standard_deviation(data):\n",
    "    mean = sum(data)/len(data)\n",
    "    variance = 0\n",
    "    for entry in data:\n",
    "        variance += (data - mean)**2\n",
    "    variance /= len(data)\n",
    "    return mean, variance **(1/2)\n",
    "\n",
    "D = [3.2, 7.8, 1.11, 10.98, 13.4, 8.8]\n",
    "\n",
    "mean_and_standard_deviation(D)"
   ]
  },
  {
   "cell_type": "markdown",
   "metadata": {},
   "source": [
    "<font size=8 color=\"#009600\">&#9998;</font> Do This - Erase the contents of this cell and replace it with your answer to the above questions (1-4)!  (double-click on this text to edit this cell, and hit shift+enter to save the text)"
   ]
  },
  {
   "cell_type": "code",
   "execution_count": null,
   "metadata": {},
   "outputs": [],
   "source": [
    "##Put your code here"
   ]
  },
  {
   "cell_type": "markdown",
   "metadata": {},
   "source": [
    "## Bugs that don't break your code\n",
    "\n",
    "The cells below each contain code that will run, but the result will not be correct (broken but not breaking). For each of the examples:\n",
    "1. Describe what you think the code *should* be doing.\n",
    "2. How do you know that the result of the code is incorrect?\n",
    "3. How could the code be corrected so that it will run as expect it to?\n",
    "4. Try copying and pasting the code into a new cell and correcting it as you outlined in the above question.\n",
    "\n",
    "Be sure to answer all of the questions for each piece of code."
   ]
  },
  {
   "cell_type": "markdown",
   "metadata": {},
   "source": [
    "*Code Sample 3:*"
   ]
  },
  {
   "cell_type": "code",
   "execution_count": null,
   "metadata": {},
   "outputs": [],
   "source": [
    "num = 32\n",
    "if num > 1:\n",
    "    for i in range(1,num):\n",
    "        if (num % i) == 0:\n",
    "            print(num,\"is not a prime number\")\n",
    "            print(i,\"times\",num//i,\"is\", num)\n",
    "            break\n",
    "    else:\n",
    "        print(num, \"is a prime number\")"
   ]
  },
  {
   "cell_type": "markdown",
   "metadata": {},
   "source": [
    "<font size=8 color=\"#009600\">&#9998;</font> Do This - Erase the contents of this cell and replace it with your answer to the above questions (1-4)!  (double-click on this text to edit this cell, and hit shift+enter to save the text)"
   ]
  },
  {
   "cell_type": "code",
   "execution_count": null,
   "metadata": {},
   "outputs": [],
   "source": [
    "##Try to put the correct code here"
   ]
  },
  {
   "cell_type": "markdown",
   "metadata": {},
   "source": [
    "*Code Sample 4:*"
   ]
  },
  {
   "cell_type": "code",
   "execution_count": null,
   "metadata": {},
   "outputs": [],
   "source": [
    "def factorial(num):\n",
    "    factorial = 0\n",
    "    for i in range(1, num + 1):\n",
    "        factorial = factorial + i\n",
    "    print(\"{}! =  {}\".format(num, factorial))\n",
    "    \n",
    "factorial(2)\n",
    "factorial(3)\n",
    "factorial(4)"
   ]
  },
  {
   "cell_type": "markdown",
   "metadata": {},
   "source": [
    "<font size=8 color=\"#009600\">&#9998;</font> Do This - Erase the contents of this cell and replace it with your answer to the above questions (1-4)!  (double-click on this text to edit this cell, and hit shift+enter to save the text)"
   ]
  },
  {
   "cell_type": "code",
   "execution_count": null,
   "metadata": {},
   "outputs": [],
   "source": [
    "##Try to put the correct code here"
   ]
  },
  {
   "cell_type": "markdown",
   "metadata": {},
   "source": [
    "---\n",
    "# 3. Continuing to debug code\n",
    "\n",
    "## Even more bug examples!"
   ]
  },
  {
   "cell_type": "markdown",
   "metadata": {},
   "source": [
    "### Fixing errors\n",
    "\n",
    "**Question**: Resolve the errors in the following pieces of code and add a comment that explains what was wrong in the first place."
   ]
  },
  {
   "cell_type": "code",
   "execution_count": null,
   "metadata": {
    "scrolled": true
   },
   "outputs": [],
   "source": [
    "for i in range(10)\n",
    "    print(\"The value of i is %i\" %i)"
   ]
  },
  {
   "cell_type": "code",
   "execution_count": null,
   "metadata": {},
   "outputs": [],
   "source": [
    "def compute_fraction(numerator, denominator):\n",
    "    fraction = numerator/denominator\n",
    "    print(\"The value of the fraction is %f\" %fraction)\n",
    "    \n",
    "compute_fraction(5, 0)"
   ]
  },
  {
   "cell_type": "code",
   "execution_count": null,
   "metadata": {},
   "outputs": [],
   "source": [
    "def compute_fraction(numerator, denominator):\n",
    "    fraction = numerator/denominator\n",
    "    print(\"The value of the fraction is %f\" %fraction)\n",
    "    \n",
    "compute_fraction(\"one\", 25)"
   ]
  },
  {
   "cell_type": "code",
   "execution_count": null,
   "metadata": {},
   "outputs": [],
   "source": [
    "import numpy as np\n",
    "\n",
    "n = np.arange(20)\n",
    "print(\"The value of the 10th element is %d\" %n(9))"
   ]
  },
  {
   "cell_type": "code",
   "execution_count": null,
   "metadata": {},
   "outputs": [],
   "source": [
    "odd = [1, 3, 5, 7, 9]\n",
    "even = [2, 4, 6, 8, 10]\n",
    "\n",
    "for i in odd:\n",
    "    print(i)\n",
    "    \n",
    "for j in evven:\n",
    "    print(j)"
   ]
  },
  {
   "cell_type": "code",
   "execution_count": null,
   "metadata": {},
   "outputs": [],
   "source": [
    "spanish = dict()\n",
    "spanish['hello'] = 'hola'\n",
    "spanish['yes'] = 'si'\n",
    "spanish['one'] = 'uno'\n",
    "spanish['two'] = 'dos'\n",
    "spanish['three'] = 'tres'\n",
    "spanish['red'] = 'rojo'\n",
    "spanish['black'] = 'negro'\n",
    "spanish['green'] = 'verde'\n",
    "spanish['blue'] = 'azul'\n",
    "\n",
    "print(spanish[\"hello\"])\n",
    "print(spanish[\"one\"], spanish[\"two\"], spanish[\"three\"])\n",
    "print(spanish[\"orange\"])"
   ]
  }
 ],
 "metadata": {
  "kernelspec": {
   "display_name": "Python 3",
   "language": "python",
   "name": "python3"
  },
  "language_info": {
   "codemirror_mode": {
    "name": "ipython",
    "version": 3
   },
   "file_extension": ".py",
   "mimetype": "text/x-python",
   "name": "python",
   "nbconvert_exporter": "python",
   "pygments_lexer": "ipython3",
   "version": "3.9.13"
  },
  "vscode": {
   "interpreter": {
    "hash": "57d964a2ef938b66daa93f67207194045a8aae98a88dc0c9d20f5f06155eead0"
   }
  }
 },
 "nbformat": 4,
 "nbformat_minor": 4
}
